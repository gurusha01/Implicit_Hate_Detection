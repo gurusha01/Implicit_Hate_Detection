{
 "cells": [
  {
   "cell_type": "code",
   "execution_count": 4,
   "metadata": {},
   "outputs": [],
   "source": [
    "import os\n",
    "import pandas as pd\n",
    "from PIL import Image\n"
   ]
  },
  {
   "cell_type": "code",
   "execution_count": 2,
   "metadata": {},
   "outputs": [
    {
     "name": "stdout",
     "output_type": "stream",
     "text": [
      "# conda environments:\n",
      "#\n",
      "base                     C:\\Users\\t-gujuneja\\AppData\\Local\\miniconda3\n",
      "AutoPromptEngineer       C:\\Users\\t-gujuneja\\AppData\\Local\\miniconda3\\envs\\AutoPromptEngineer\n",
      "MEME_PROJECT             C:\\Users\\t-gujuneja\\AppData\\Local\\miniconda3\\envs\\MEME_PROJECT\n",
      "MemeProj              *  C:\\Users\\t-gujuneja\\AppData\\Local\\miniconda3\\envs\\MemeProj\n",
      "RLPrompt                 C:\\Users\\t-gujuneja\\AppData\\Local\\miniconda3\\envs\\RLPrompt\n",
      "active-example-selection     C:\\Users\\t-gujuneja\\AppData\\Local\\miniconda3\\envs\\active-example-selection\n",
      "myenv                    C:\\Users\\t-gujuneja\\AppData\\Local\\miniconda3\\envs\\myenv\n",
      "tempera                  C:\\Users\\t-gujuneja\\AppData\\Local\\miniconda3\\envs\\tempera\n",
      "\n"
     ]
    }
   ],
   "source": [
    "image_folder_path = 'train'\n",
    "label_folder_path = 'all_annotation'\n",
    "output_dataset_path = ''\n"
   ]
  },
  {
   "cell_type": "code",
   "execution_count": 3,
   "metadata": {},
   "outputs": [
    {
     "name": "stdout",
     "output_type": "stream",
     "text": [
      "Collecting pillow\n",
      "  Using cached Pillow-10.0.0-cp311-cp311-win_amd64.whl (2.5 MB)\n",
      "Installing collected packages: pillow\n",
      "Successfully installed pillow-10.0.0\n"
     ]
    }
   ],
   "source": [
    "!pip install pillow"
   ]
  },
  {
   "cell_type": "code",
   "execution_count": null,
   "metadata": {},
   "outputs": [],
   "source": []
  }
 ],
 "metadata": {
  "kernelspec": {
   "display_name": "Python 3 (ipykernel)",
   "language": "python",
   "name": "python3"
  },
  "language_info": {
   "codemirror_mode": {
    "name": "ipython",
    "version": 3
   },
   "file_extension": ".py",
   "mimetype": "text/x-python",
   "name": "python",
   "nbconvert_exporter": "python",
   "pygments_lexer": "ipython3",
   "version": "3.11.4"
  }
 },
 "nbformat": 4,
 "nbformat_minor": 4
}
